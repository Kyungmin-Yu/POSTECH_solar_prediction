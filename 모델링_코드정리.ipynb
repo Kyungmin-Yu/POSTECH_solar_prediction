{
  "nbformat": 4,
  "nbformat_minor": 0,
  "metadata": {
    "colab": {
      "name": "모델링 코드정리.ipynb",
      "provenance": [],
      "collapsed_sections": [],
      "authorship_tag": "ABX9TyNB2YAG/g8PRNEmAC1QDjLt",
      "include_colab_link": true
    },
    "kernelspec": {
      "name": "python3",
      "display_name": "Python 3"
    }
  },
  "cells": [
    {
      "cell_type": "markdown",
      "metadata": {
        "id": "view-in-github",
        "colab_type": "text"
      },
      "source": [
        "<a href=\"https://colab.research.google.com/github/Kyungmin-Yu/old_datamining/blob/master/%EB%AA%A8%EB%8D%B8%EB%A7%81_%EC%BD%94%EB%93%9C%EC%A0%95%EB%A6%AC.ipynb\" target=\"_parent\"><img src=\"https://colab.research.google.com/assets/colab-badge.svg\" alt=\"Open In Colab\"/></a>"
      ]
    },
    {
      "cell_type": "code",
      "metadata": {
        "id": "96BNERN2MO-b",
        "colab_type": "code",
        "colab": {
          "base_uri": "https://localhost:8080/",
          "height": 35
        },
        "outputId": "a665e946-44d3-4019-9388-ed3d712145c1"
      },
      "source": [
        "from google.colab import drive\n",
        "drive.mount('/content/drive')"
      ],
      "execution_count": 144,
      "outputs": [
        {
          "output_type": "stream",
          "text": [
            "Drive already mounted at /content/drive; to attempt to forcibly remount, call drive.mount(\"/content/drive\", force_remount=True).\n"
          ],
          "name": "stdout"
        }
      ]
    },
    {
      "cell_type": "code",
      "metadata": {
        "id": "HeYMzbiqPyuZ",
        "colab_type": "code",
        "colab": {}
      },
      "source": [
        "import os\n",
        "import pandas as pd\n",
        "import numpy as np\n",
        "os.chdir(\"/content/drive/My Drive/data\")\n",
        "dat = pd.read_csv(\"final_data0723_3.csv\", encoding='CP949')"
      ],
      "execution_count": 187,
      "outputs": []
    },
    {
      "cell_type": "code",
      "metadata": {
        "id": "X-GUUUcpNVoZ",
        "colab_type": "code",
        "colab": {}
      },
      "source": [
        ""
      ],
      "execution_count": 187,
      "outputs": []
    },
    {
      "cell_type": "code",
      "metadata": {
        "id": "eXwDg4AnV3LT",
        "colab_type": "code",
        "colab": {
          "base_uri": "https://localhost:8080/",
          "height": 737
        },
        "outputId": "2b4e81e7-cac7-4661-dcc0-8c7294e41fc8"
      },
      "source": [
        "dat.info()"
      ],
      "execution_count": 188,
      "outputs": [
        {
          "output_type": "stream",
          "text": [
            "<class 'pandas.core.frame.DataFrame'>\n",
            "RangeIndex: 8758 entries, 0 to 8757\n",
            "Data columns (total 33 columns):\n",
            " #   Column        Non-Null Count  Dtype  \n",
            "---  ------        --------------  -----  \n",
            " 0   y             8686 non-null   float64\n",
            " 1   date          8758 non-null   object \n",
            " 2   month         8758 non-null   int64  \n",
            " 3   day           8758 non-null   int64  \n",
            " 4   wday          8758 non-null   object \n",
            " 5   hour          8758 non-null   int64  \n",
            " 6   temp          8758 non-null   float64\n",
            " 7   rain          8758 non-null   float64\n",
            " 8   wind_speed    8758 non-null   float64\n",
            " 9   humidity      8758 non-null   float64\n",
            " 10  rain_prob     8758 non-null   float64\n",
            " 11  rain_type     8758 non-null   int64  \n",
            " 12  skycondition  8758 non-null   int64  \n",
            " 13  ymd           8758 non-null   object \n",
            " 14  daily         8758 non-null   float64\n",
            " 15  daily_smooth  8758 non-null   float64\n",
            " 16  pm10_cat      8737 non-null   object \n",
            " 17  pm2_5_cat     8737 non-null   object \n",
            " 18  altitude      8737 non-null   float64\n",
            " 19  azimuth       8737 non-null   float64\n",
            " 20  sin_time      8758 non-null   float64\n",
            " 21  cos_time      8758 non-null   float64\n",
            " 22  temp_diff     8758 non-null   float64\n",
            " 23  hum_diff      8758 non-null   float64\n",
            " 24  ws_diff       8758 non-null   float64\n",
            " 25  temp_max      8758 non-null   float64\n",
            " 26  hum_max       8758 non-null   float64\n",
            " 27  ws_max        8758 non-null   float64\n",
            " 28  temp_mean     8758 non-null   float64\n",
            " 29  hum_mean      8758 non-null   float64\n",
            " 30  ws_mean       8758 non-null   float64\n",
            " 31  rain_sum      8758 non-null   float64\n",
            " 32  rain_yn       8758 non-null   object \n",
            "dtypes: float64(22), int64(5), object(6)\n",
            "memory usage: 2.2+ MB\n"
          ],
          "name": "stdout"
        }
      ]
    },
    {
      "cell_type": "code",
      "metadata": {
        "id": "w-A2qFMR_ww0",
        "colab_type": "code",
        "colab": {}
      },
      "source": [
        "dat = dat.set_index(pd.to_datetime(dat['date']))\n",
        "submit_dat = dat[dat['y'].isnull()]\n",
        "submit_dat['y'] = 0\n",
        "dat = dat[dat['y'].notnull()]"
      ],
      "execution_count": 189,
      "outputs": []
    },
    {
      "cell_type": "code",
      "metadata": {
        "id": "F4I7YbYwR1V5",
        "colab_type": "code",
        "colab": {}
      },
      "source": [
        "train_1 = dat[(dat[\"ymd\"] < \"2020-01-24\")]\n",
        "train_2 = dat[(dat[\"ymd\"] < \"2020-03-24\")]\n",
        "train_3 = dat[(dat[\"ymd\"] < \"2020-05-24\")]\n",
        "\n",
        "val_1 = dat[((dat[\"ymd\"] > \"2020-01-23\") & (dat[\"ymd\"] <\"2020-01-31\"))]\n",
        "val_2 = dat[((dat[\"ymd\"] > \"2020-03-23\") & (dat[\"ymd\"] <\"2020-03-31\"))]\n",
        "val_3 = dat[((dat[\"ymd\"] > \"2020-05-23\") & (dat[\"ymd\"] <\"2020-05-31\"))]\n",
        "\n",
        "test_1 = submit_dat[(submit_dat[\"ymd\"] == \"2020-01-31\")]\n",
        "test_2 = submit_dat[(submit_dat[\"ymd\"] == \"2020-03-31\")]\n",
        "test_3 = submit_dat[(submit_dat[\"ymd\"] == \"2020-05-31\")]\n",
        "\n",
        "submit_train_1 = dat[(dat[\"ymd\"] < \"2020-01-31\")]\n",
        "submit_train_2 = dat[(dat[\"ymd\"] < \"2020-03-31\")]\n",
        "submit_train_3 = dat[(dat[\"ymd\"] < \"2020-05-31\")]"
      ],
      "execution_count": 192,
      "outputs": []
    },
    {
      "cell_type": "markdown",
      "metadata": {
        "id": "9kmuxToxSNET",
        "colab_type": "text"
      },
      "source": [
        "catboost"
      ]
    },
    {
      "cell_type": "code",
      "metadata": {
        "id": "IemFhJAQSfv6",
        "colab_type": "code",
        "colab": {
          "base_uri": "https://localhost:8080/",
          "height": 289
        },
        "outputId": "45410a6c-f08e-480e-bc6f-ca803d13333d"
      },
      "source": [
        "! pip install catboost"
      ],
      "execution_count": 149,
      "outputs": [
        {
          "output_type": "stream",
          "text": [
            "Requirement already satisfied: catboost in /usr/local/lib/python3.6/dist-packages (0.23.2)\n",
            "Requirement already satisfied: six in /usr/local/lib/python3.6/dist-packages (from catboost) (1.15.0)\n",
            "Requirement already satisfied: matplotlib in /usr/local/lib/python3.6/dist-packages (from catboost) (3.2.2)\n",
            "Requirement already satisfied: numpy>=1.16.0 in /usr/local/lib/python3.6/dist-packages (from catboost) (1.18.5)\n",
            "Requirement already satisfied: plotly in /usr/local/lib/python3.6/dist-packages (from catboost) (4.4.1)\n",
            "Requirement already satisfied: scipy in /usr/local/lib/python3.6/dist-packages (from catboost) (1.4.1)\n",
            "Requirement already satisfied: graphviz in /usr/local/lib/python3.6/dist-packages (from catboost) (0.10.1)\n",
            "Requirement already satisfied: pandas>=0.24.0 in /usr/local/lib/python3.6/dist-packages (from catboost) (1.0.5)\n",
            "Requirement already satisfied: python-dateutil>=2.1 in /usr/local/lib/python3.6/dist-packages (from matplotlib->catboost) (2.8.1)\n",
            "Requirement already satisfied: cycler>=0.10 in /usr/local/lib/python3.6/dist-packages (from matplotlib->catboost) (0.10.0)\n",
            "Requirement already satisfied: pyparsing!=2.0.4,!=2.1.2,!=2.1.6,>=2.0.1 in /usr/local/lib/python3.6/dist-packages (from matplotlib->catboost) (2.4.7)\n",
            "Requirement already satisfied: kiwisolver>=1.0.1 in /usr/local/lib/python3.6/dist-packages (from matplotlib->catboost) (1.2.0)\n",
            "Requirement already satisfied: retrying>=1.3.3 in /usr/local/lib/python3.6/dist-packages (from plotly->catboost) (1.3.3)\n",
            "Requirement already satisfied: pytz>=2017.2 in /usr/local/lib/python3.6/dist-packages (from pandas>=0.24.0->catboost) (2018.9)\n"
          ],
          "name": "stdout"
        }
      ]
    },
    {
      "cell_type": "code",
      "metadata": {
        "id": "0gkFT9aTSUp5",
        "colab_type": "code",
        "colab": {}
      },
      "source": [
        "from catboost import CatBoostRegressor\n",
        "from sklearn.metrics import mean_squared_error as mse\n",
        "from sklearn.model_selection import KFold"
      ],
      "execution_count": 150,
      "outputs": []
    },
    {
      "cell_type": "code",
      "metadata": {
        "id": "F6b3KdF9QxCl",
        "colab_type": "code",
        "colab": {}
      },
      "source": [
        "#cat_var = [\"month\", \"hour\", \"temp\", \"wind_speed\", \"humidity\",\"rain_prob\", \"skycondition\", \"rain_type\"]\n",
        "cat_var = ['month', 'hour', 'wind_speed', 'humidity', 'rain_prob', 'daily_smooth', 'azimuth', 'temp_diff', 'ws_mean']"
      ],
      "execution_count": 194,
      "outputs": []
    },
    {
      "cell_type": "code",
      "metadata": {
        "id": "KrVThz1jScH0",
        "colab_type": "code",
        "colab": {}
      },
      "source": [
        "cb_model = CatBoostRegressor(iterations=1000,\n",
        "                          loss_function='RMSE',\n",
        "                          eval_metric='RMSE')"
      ],
      "execution_count": 195,
      "outputs": []
    },
    {
      "cell_type": "code",
      "metadata": {
        "id": "85RuLaH1Seym",
        "colab_type": "code",
        "colab": {}
      },
      "source": [
        "## 함수 정의 \n",
        "def RMSE(y_true,y_pred):\n",
        "    rmse = (mse(y_true,y_pred))**0.5\n",
        "    return rmse\n",
        "\n",
        "def cat_pred (train ,test):\n",
        "  train_x = train.loc[:, cat_var]\n",
        "  train_y = train.loc[:,['y']]\n",
        "  test_x =  test.loc[:, cat_var]\n",
        "  test_y = test.loc[:,['y']]\n",
        "  cat_features = list(train_x.select_dtypes(include=['object', 'int64']))\n",
        "  cb_model.fit(train_x, train_y, \n",
        "             eval_set=(test_x,test_y), \n",
        "             cat_features=cat_features,\n",
        "             use_best_model=True,\n",
        "             verbose=False)\n",
        "  pred_y = cb_model.predict(test_x)\n",
        "  true_y = test_y.to_numpy().flatten()\n",
        "  E = lossloss(true_y, pred_y)\n",
        " \n",
        "  return pred_y\n",
        "\n",
        "def lossloss(y, y_hat):\n",
        "  result = []\n",
        "  for i in range(int(y.shape[0]/24)):\n",
        "    start = 24*i\n",
        "    end = (24*(i+1))\n",
        "    tmp = sum(abs(y[start:end] - y_hat[start:end])*y[start:end]/sum(y[start:end]))/133\n",
        "    result.append(tmp)\n",
        "  loss = np.mean(result)\n",
        "  return loss\n",
        "\n",
        "def cat_fold_prediction(train, test, N_fold=5):\n",
        "    kf = KFold(n_splits=N_fold, shuffle=True, random_state=0)\n",
        "    y_pred_mean = np.zeros(len(test))\n",
        "    for i, (train_index,val_index) in enumerate(kf.split(train)):\n",
        "        train_cv = train.iloc[train_index,:]\n",
        "        val_cv = train.iloc[val_index,:]\n",
        "        y_pred = cat_pred(train_cv, test)\n",
        "        y_pred_mean += np.array(y_pred)/N_fold\n",
        "    \n",
        "    rmse = RMSE(test['y'],y_pred_mean)\n",
        "    E = lossloss(test['y'],y_pred_mean)\n",
        "    print(\"가중평균: \", E)\n",
        "    print(\"RMSE:\", rmse) \n",
        "    return (rmse, E, y_pred_mean)"
      ],
      "execution_count": 199,
      "outputs": []
    },
    {
      "cell_type": "code",
      "metadata": {
        "id": "nJ5ApSEaMcE2",
        "colab_type": "code",
        "colab": {
          "base_uri": "https://localhost:8080/",
          "height": 35
        },
        "outputId": "57a0c147-8f59-49da-ae9d-f2fd987c050e"
      },
      "source": [
        "pd.isnull(test_1.iloc[0,:]['y'] ) ==True"
      ],
      "execution_count": 197,
      "outputs": [
        {
          "output_type": "execute_result",
          "data": {
            "text/plain": [
              "False"
            ]
          },
          "metadata": {
            "tags": []
          },
          "execution_count": 197
        }
      ]
    },
    {
      "cell_type": "code",
      "metadata": {
        "id": "O6pCQ8H9SzIW",
        "colab_type": "code",
        "colab": {
          "base_uri": "https://localhost:8080/",
          "height": 125
        },
        "outputId": "2f8661d5-b743-483e-e5be-55dc0d32e199"
      },
      "source": [
        "rmse1, E1, cat_pred_1 = cat_fold_prediction(train_1, val_1)\n",
        "rmse2, E2, cat_pred_2 = cat_fold_prediction(train_2, val_2)\n",
        "rmse3, E3, cat_pred_3 = cat_fold_prediction(train_3, val_3)"
      ],
      "execution_count": 154,
      "outputs": [
        {
          "output_type": "stream",
          "text": [
            "가중평균:  0.07402790191546714\n",
            "RMSE: 6.302861954044814\n",
            "가중평균:  0.09030564365143903\n",
            "RMSE: 9.955758222104135\n",
            "가중평균:  0.06979896762276575\n",
            "RMSE: 7.578203128804214\n"
          ],
          "name": "stdout"
        }
      ]
    },
    {
      "cell_type": "code",
      "metadata": {
        "id": "ckg9U1IVaUhn",
        "colab_type": "code",
        "colab": {
          "base_uri": "https://localhost:8080/",
          "height": 35
        },
        "outputId": "f0ac6cca-2be1-4077-92ae-54cc398bca40"
      },
      "source": [
        "(E1+E2+E3)/3"
      ],
      "execution_count": 155,
      "outputs": [
        {
          "output_type": "execute_result",
          "data": {
            "text/plain": [
              "0.07804417106322396"
            ]
          },
          "metadata": {
            "tags": []
          },
          "execution_count": 155
        }
      ]
    },
    {
      "cell_type": "code",
      "metadata": {
        "id": "TUQSYSsKHzHa",
        "colab_type": "code",
        "colab": {
          "base_uri": "https://localhost:8080/",
          "height": 179
        },
        "outputId": "a067a6b5-db39-47c5-b896-3460f103fdb3"
      },
      "source": [
        "_, _, cat_0131 = cat_fold_prediction(submit_train_1, test_1)\n",
        "_, _, cat_0331 = cat_fold_prediction(submit_train_2, test_2)\n",
        "_, _, cat_0531 = cat_fold_prediction(submit_train_3, test_3)"
      ],
      "execution_count": 200,
      "outputs": [
        {
          "output_type": "stream",
          "text": [
            "/usr/local/lib/python3.6/dist-packages/ipykernel_launcher.py:28: RuntimeWarning: invalid value encountered in true_divide\n"
          ],
          "name": "stderr"
        },
        {
          "output_type": "stream",
          "text": [
            "가중평균:  nan\n",
            "RMSE: 14.189389611678688\n"
          ],
          "name": "stdout"
        },
        {
          "output_type": "stream",
          "text": [
            "/usr/local/lib/python3.6/dist-packages/ipykernel_launcher.py:28: RuntimeWarning: invalid value encountered in true_divide\n"
          ],
          "name": "stderr"
        },
        {
          "output_type": "stream",
          "text": [
            "가중평균:  nan\n",
            "RMSE: 16.897380529832084\n"
          ],
          "name": "stdout"
        },
        {
          "output_type": "stream",
          "text": [
            "/usr/local/lib/python3.6/dist-packages/ipykernel_launcher.py:28: RuntimeWarning: invalid value encountered in true_divide\n"
          ],
          "name": "stderr"
        },
        {
          "output_type": "stream",
          "text": [
            "가중평균:  nan\n",
            "RMSE: 18.316195712282017\n"
          ],
          "name": "stdout"
        }
      ]
    },
    {
      "cell_type": "markdown",
      "metadata": {
        "id": "HPLVhLQDU1Xd",
        "colab_type": "text"
      },
      "source": [
        "SVR"
      ]
    },
    {
      "cell_type": "code",
      "metadata": {
        "id": "6KR3uO8aYaL7",
        "colab_type": "code",
        "colab": {
          "base_uri": "https://localhost:8080/",
          "height": 235
        },
        "outputId": "bcb7c84f-7d90-4dca-ebfc-7ac0ac84f151"
      },
      "source": [
        "! pip install category_encoders"
      ],
      "execution_count": 157,
      "outputs": [
        {
          "output_type": "stream",
          "text": [
            "Requirement already satisfied: category_encoders in /usr/local/lib/python3.6/dist-packages (2.2.2)\n",
            "Requirement already satisfied: scikit-learn>=0.20.0 in /usr/local/lib/python3.6/dist-packages (from category_encoders) (0.22.2.post1)\n",
            "Requirement already satisfied: patsy>=0.5.1 in /usr/local/lib/python3.6/dist-packages (from category_encoders) (0.5.1)\n",
            "Requirement already satisfied: numpy>=1.14.0 in /usr/local/lib/python3.6/dist-packages (from category_encoders) (1.18.5)\n",
            "Requirement already satisfied: pandas>=0.21.1 in /usr/local/lib/python3.6/dist-packages (from category_encoders) (1.0.5)\n",
            "Requirement already satisfied: scipy>=1.0.0 in /usr/local/lib/python3.6/dist-packages (from category_encoders) (1.4.1)\n",
            "Requirement already satisfied: statsmodels>=0.9.0 in /usr/local/lib/python3.6/dist-packages (from category_encoders) (0.10.2)\n",
            "Requirement already satisfied: joblib>=0.11 in /usr/local/lib/python3.6/dist-packages (from scikit-learn>=0.20.0->category_encoders) (0.16.0)\n",
            "Requirement already satisfied: six in /usr/local/lib/python3.6/dist-packages (from patsy>=0.5.1->category_encoders) (1.15.0)\n",
            "Requirement already satisfied: python-dateutil>=2.6.1 in /usr/local/lib/python3.6/dist-packages (from pandas>=0.21.1->category_encoders) (2.8.1)\n",
            "Requirement already satisfied: pytz>=2017.2 in /usr/local/lib/python3.6/dist-packages (from pandas>=0.21.1->category_encoders) (2018.9)\n"
          ],
          "name": "stdout"
        }
      ]
    },
    {
      "cell_type": "code",
      "metadata": {
        "id": "GsiirANjYWwf",
        "colab_type": "code",
        "colab": {}
      },
      "source": [
        "import category_encoders as ce\n",
        "from sklearn.preprocessing import StandardScaler\n",
        "from sklearn.svm import SVR\n",
        "pd.options.mode.chained_assignment = None"
      ],
      "execution_count": 201,
      "outputs": []
    },
    {
      "cell_type": "code",
      "metadata": {
        "id": "r-mGAkNYU0gB",
        "colab_type": "code",
        "colab": {}
      },
      "source": [
        "svr_var = ['month', 'hour', 'temp', 'rain', 'humidity', 'skycondition', 'daily', 'daily_smooth', 'altitude', 'azimuth', 'sin_time', 'cos_time', 'temp_diff', 'ws_diff',\n",
        " 'temp_max', 'hum_max', 'ws_max', 'temp_mean', 'hum_mean', 'ws_mean']"
      ],
      "execution_count": 202,
      "outputs": []
    },
    {
      "cell_type": "code",
      "metadata": {
        "id": "oJCt-5aRVSTe",
        "colab_type": "code",
        "colab": {}
      },
      "source": [
        "## 함수 정의\n",
        "def mean_encoder(train,test,categorical_var):\n",
        "    ## mean encoding\n",
        "    cate_var = categorical_var\n",
        "    for i in cate_var:\n",
        "        tg_encoder = ce.target_encoder.TargetEncoder(cols=[i])\n",
        "        tg_encoder.fit(X = train[i],y = train['y'])\n",
        "        train[i] = tg_encoder.transform(train[i])\n",
        "        test[i] = tg_encoder.transform(test[i])\n",
        "    return (train,test)\n",
        "# train_1,val_1 = mean_encoder(train_1,val_1,['month','hour','pm10_cat','pm2_5_cat','rain_yn'])\n",
        "\n",
        "def lossloss(y_true, y_pred):\n",
        "  ## 가중평균\n",
        "    result = []\n",
        "    for i in range(int(y_true.shape[0]/24)):\n",
        "        start = 24*i\n",
        "        end = (24*(i+1))\n",
        "        tmp = sum(abs(y_true[start:end] - y_pred[start:end])*y_true[start:end])/sum(y_true[start:end])/133\n",
        "        result.append(tmp)\n",
        "    loss = np.mean(result)\n",
        "    return loss\n",
        "\n",
        "def svr_predict(train,test):\n",
        "    train,val = train,test\n",
        "    categorical_var = ['month','hour','rain_yn','pm10_cat','pm2_5_cat']\n",
        "    categorical_var = [v for v in categorical_var if v in train.columns.to_list()]\n",
        "    train,val = mean_encoder(train,val,categorical_var)\n",
        "    train_X = train.loc[:, svr_var]\n",
        "    train_y = train.loc[:,['y']]\n",
        "    sc_X = StandardScaler()\n",
        "    sc_y = StandardScaler()\n",
        "    train_X = sc_X.fit_transform(train_X)\n",
        "    train_y = sc_y.fit_transform(train_y).reshape(-1)\n",
        "    val_X = sc_X.transform(val.loc[:, svr_var])\n",
        "    val_y = sc_y.transform(val.loc[:,['y']])\n",
        "    regressor = SVR(kernel='rbf')\n",
        "    regressor.fit(train_X,train_y)\n",
        "    y_pred = regressor.predict(val_X)\n",
        "    y_pred = sc_y.inverse_transform(y_pred)\n",
        "    if sum(val['y'])==0:\n",
        "      result = (0,0,y_pred)\n",
        "    else:\n",
        "      rmse = RMSE(val['y'],y_pred)\n",
        "      E = lossloss(val['y'],y_pred)\n",
        "      print('rmse:',rmse,'가중평균:',E)\n",
        "      result = (rmse, E, y_pred)\n",
        "    return result"
      ],
      "execution_count": 219,
      "outputs": []
    },
    {
      "cell_type": "code",
      "metadata": {
        "id": "HekMPlhuQyfU",
        "colab_type": "code",
        "colab": {
          "base_uri": "https://localhost:8080/",
          "height": 35
        },
        "outputId": "00e903be-24f3-4e9e-dda6-8ecd79f71e35"
      },
      "source": [
        "sum(val_1['y'])"
      ],
      "execution_count": 218,
      "outputs": [
        {
          "output_type": "execute_result",
          "data": {
            "text/plain": [
              "2068.448999"
            ]
          },
          "metadata": {
            "tags": []
          },
          "execution_count": 218
        }
      ]
    },
    {
      "cell_type": "code",
      "metadata": {
        "id": "zuZpw5oOVYyx",
        "colab_type": "code",
        "colab": {
          "base_uri": "https://localhost:8080/",
          "height": 71
        },
        "outputId": "67976660-844d-41c5-8400-5d37c2d1dff5"
      },
      "source": [
        "rmse1, E1, svr_pred_1 = svr_predict(train_1, val_1)\n",
        "rmse2, E2, svr_pred_2 = svr_predict(train_2, val_2)\n",
        "rmse3, E3, svr_pred_3 = svr_predict(train_3, val_3)"
      ],
      "execution_count": 220,
      "outputs": [
        {
          "output_type": "stream",
          "text": [
            "rmse: 6.825112376587067 가중평균: 0.07952281158770773\n",
            "rmse: 9.276474054256466 가중평균: 0.08975456534819355\n",
            "rmse: 7.216267117348259 가중평균: 0.06052388003012432\n"
          ],
          "name": "stdout"
        }
      ]
    },
    {
      "cell_type": "code",
      "metadata": {
        "id": "BqUHju5aYe8w",
        "colab_type": "code",
        "colab": {
          "base_uri": "https://localhost:8080/",
          "height": 35
        },
        "outputId": "e80ed221-cfd6-441d-c154-49046478d87b"
      },
      "source": [
        "(E1+E2+E3)/3"
      ],
      "execution_count": 221,
      "outputs": [
        {
          "output_type": "execute_result",
          "data": {
            "text/plain": [
              "0.0766004189886752"
            ]
          },
          "metadata": {
            "tags": []
          },
          "execution_count": 221
        }
      ]
    },
    {
      "cell_type": "code",
      "metadata": {
        "id": "ltAGoVRjL4WA",
        "colab_type": "code",
        "colab": {}
      },
      "source": [
        "_, _, svr_0131 = svr_predict(submit_train_1, test_1)\n",
        "_, _, svr_0331 = svr_predict(submit_train_2, test_2)\n",
        "_, _, svr_0531 = svr_predict(submit_train_3, test_3)"
      ],
      "execution_count": 222,
      "outputs": []
    },
    {
      "cell_type": "markdown",
      "metadata": {
        "id": "Tt0URlG3sQER",
        "colab_type": "text"
      },
      "source": [
        "FFNN"
      ]
    },
    {
      "cell_type": "code",
      "metadata": {
        "id": "eavMgeKLsQvY",
        "colab_type": "code",
        "colab": {}
      },
      "source": [
        "from sklearn.preprocessing import OneHotEncoder, OrdinalEncoder\n",
        "from sklearn.preprocessing import MinMaxScaler, RobustScaler\n",
        "from keras.layers import Dense, Dropout\n",
        "from keras.models import Sequential\n",
        "from keras import backend as K\n",
        "from keras.callbacks import EarlyStopping\n",
        "from keras.callbacks import ModelCheckpoint\n",
        "import matplotlib.pyplot as plt\n",
        "from sklearn.metrics import mean_squared_error as mse\n",
        "import category_encoders as ce\n",
        "import sys\n",
        "from keras.layers.advanced_activations import LeakyReLU, PReLU\n",
        "np.set_printoptions(threshold=sys.maxsize)\n",
        "np.random.seed(0)"
      ],
      "execution_count": 163,
      "outputs": []
    },
    {
      "cell_type": "code",
      "metadata": {
        "id": "ZqUhg23f8yTe",
        "colab_type": "code",
        "colab": {}
      },
      "source": [
        "drop_columns = [\"date\", \"wday\", \"ymd\"]"
      ],
      "execution_count": 164,
      "outputs": []
    },
    {
      "cell_type": "code",
      "metadata": {
        "id": "1rWsaprc9e_Q",
        "colab_type": "code",
        "colab": {}
      },
      "source": [
        "def Scaler(dat_ffnn):\n",
        "  dat_ffnn[\"temp\"] /= 100\n",
        "  dat_ffnn[\"rain\"] /= 100\n",
        "  dat_ffnn[\"wind_speed\"] /= 100\n",
        "  dat_ffnn[\"humidity\"] /=100\n",
        "  dat_ffnn[\"rain_prob\"] /=100\n",
        "  dat_ffnn[\"altitude\"] /=10\n",
        "  dat_ffnn[\"azimuth\"] /= 100 \n",
        "  dat_ffnn[\"temp_diff\"] /= 100\n",
        "  dat_ffnn[\"ws_diff\"] /=100\n",
        "  dat_ffnn[\"temp_max\"] /= 100\n",
        "  dat_ffnn[\"hum_max\"] /=100\n",
        "  dat_ffnn[\"ws_max\"] /=100\n",
        "  dat_ffnn[\"temp_mean\"] /=100\n",
        "  dat_ffnn[\"hum_mean\"] /= 100\n",
        "  dat_ffnn[\"ws_mean\"] /= 100\n",
        "  result = dat_ffnn.copy()\n",
        "  return result"
      ],
      "execution_count": 165,
      "outputs": []
    },
    {
      "cell_type": "code",
      "metadata": {
        "id": "fFVVj-FqwuaT",
        "colab_type": "code",
        "colab": {}
      },
      "source": [
        "def mean_encoder(train,test,categorical_var):\n",
        "    ## mean encoding\n",
        "    train = Scaler(train)\n",
        "    test = Scaler(test)\n",
        "    cate_var = categorical_var\n",
        "    train = train.drop(drop_columns,axis=1)\n",
        "    test = test.drop(drop_columns,axis=1)\n",
        "    for i in cate_var:\n",
        "        tg_encoder = ce.target_encoder.TargetEncoder(cols=[i])\n",
        "        tg_encoder.fit(X = train[i],y = train['y'])\n",
        "        train[i] = tg_encoder.transform(train[i])\n",
        "        test[i] = tg_encoder.transform(test[i])\n",
        "        X_train,y_train = np.array(train.drop(['y'],axis=1)), np.array(train.loc[:,['y']])\n",
        "        X_valid,y_valid = np.array(test.drop(['y'],axis=1)), np.array(test.loc[:,['y']])\n",
        "    return (X_train,y_train, X_valid, y_valid)\n",
        "\n",
        "def lossloss(y, y_hat):\n",
        "  result = []\n",
        "  for i in range(int(y.shape[0]/24)):\n",
        "    start = 24*i\n",
        "    end = (24*(i+1))\n",
        "    tmp = sum(abs(y[start:end] - y_hat[start:end])*y[start:end]/sum(y[start:end]))/133\n",
        "    result.append(tmp)\n",
        "  loss = np.mean(result)\n",
        "  return loss\n",
        "\n",
        "def RMSE(y_true,y_pred):\n",
        "    rmse = (mse(y_true,y_pred))**0.5\n",
        "    return rmse\n",
        "\n",
        "def root_mean_squared_error(y_true, y_pred):\n",
        "        return K.sqrt(K.mean(K.square(y_pred - y_true))) \n",
        "\n",
        "def modeling(data_set, model, batchsize = 64, learning_rate = 300):\n",
        "  weighted = []\n",
        "  rmse = []\n",
        "  y_hat_result = []\n",
        "  for i in range(len(data_set)):\n",
        "    X_train = data_set[i][0]\n",
        "    Y_train = data_set[i][1]\n",
        "    X_val = data_set[i][2]\n",
        "    Y_val = data_set[i][3]\n",
        "\n",
        "    model.fit(X_train, Y_train, epochs = 300, batch_size = batchsize, validation_split = 0.3, verbose = 0, callbacks = [mc, early_stopping])\n",
        "    \n",
        "    y_hat = model.predict(X_val)\n",
        "    y_hat = y_hat.flatten()\n",
        "    y_hat_tmp = y_hat\n",
        "\n",
        "    tmp_weighted = lossloss(Y_val, y_hat)\n",
        "    tmp_rmse = RMSE(Y_val, y_hat)\n",
        "\n",
        "    weighted.append(tmp_weighted)\n",
        "    rmse.append(tmp_rmse)\n",
        "    y_hat_result = y_hat_tmp\n",
        "    print(i, \"번째 validiaion 결과는 다음과 같습니다.\", \":::\", \"가중평균: \", tmp_weighted, \"RMSE: \", tmp_rmse )\n",
        "\n",
        "  print(\"   \")\n",
        "  print(np.mean(weighted))\n",
        " # return y_hat_result\n",
        "  return weighted, y_hat_result"
      ],
      "execution_count": 166,
      "outputs": []
    },
    {
      "cell_type": "code",
      "metadata": {
        "id": "3JK4kUfN_TQe",
        "colab_type": "code",
        "colab": {}
      },
      "source": [
        "cate_list = [\"month\", \"skycondition\", \"pm10_cat\", \"pm2_5_cat\", \"rain_yn\", \"hour\" ] #인코딩을 위한 변수"
      ],
      "execution_count": 167,
      "outputs": []
    },
    {
      "cell_type": "code",
      "metadata": {
        "id": "9nTF6hDPEvyR",
        "colab_type": "code",
        "colab": {}
      },
      "source": [
        "x_train_1, y_train_1, x_val_1, y_val_1 = mean_encoder(train_1, val_1, cate_list)\n",
        "x_train_2, y_train_2, x_val_2, y_val_2 = mean_encoder(train_2, val_2, cate_list)\n",
        "x_train_3, y_train_3, x_val_3, y_val_3 = mean_encoder(train_3, val_3, cate_list)"
      ],
      "execution_count": 168,
      "outputs": []
    },
    {
      "cell_type": "code",
      "metadata": {
        "id": "tnqLx4ip_WSQ",
        "colab_type": "code",
        "colab": {}
      },
      "source": [
        "data_set_list = [[x_train_1, y_train_1, x_val_1, y_val_1],\n",
        "                 [x_train_2, y_train_2, x_val_2, y_val_2],\n",
        "                 [x_train_3, y_train_3, x_val_3, y_val_3]]"
      ],
      "execution_count": 169,
      "outputs": []
    },
    {
      "cell_type": "code",
      "metadata": {
        "id": "WzTBQ4pR_YOr",
        "colab_type": "code",
        "colab": {}
      },
      "source": [
        "dim_x_train_1 = x_train_1.shape\n",
        "\n",
        "# 1. 모델 구성하기\n",
        "model = Sequential()\n",
        "model.__init__\n",
        "model.add(Dense(40, input_dim= dim_x_train_1[1], activation='sigmoid'))\n",
        "model.add(Dense(20))\n",
        "model.add(Dense(1, activation = \"linear\"))\n",
        "# 2. 모델 학습과정 설정하기\n",
        "model.compile(optimizer = \"adamax\", loss = root_mean_squared_error, \n",
        "              metrics =[\"mse\"])\n",
        "\n",
        "# 3. 모델 학습시키기\n",
        "early_stopping = EarlyStopping(monitor='val_loss', mode='min', verbose=1, patience=100)\n",
        "mc = ModelCheckpoint('best_model.h5', monitor='val_loss', mode='min', save_best_only=True)"
      ],
      "execution_count": 170,
      "outputs": []
    },
    {
      "cell_type": "code",
      "metadata": {
        "id": "bu5_CxLqTp_W",
        "colab_type": "code",
        "colab": {}
      },
      "source": [
        "def modeling_final(X_train, Y_train, X_test):\n",
        "  dim_train = X_train.shape\n",
        "\n",
        "  model_final = Sequential()\n",
        "  model_final.__init__\n",
        "  model_final.add(Dense(40, input_dim= dim_train, activation='sigmoid'))\n",
        "  model_final.add(Dense(20))\n",
        "  model_final.add(Dense(1, activation = \"linear\"))\n",
        "  # 2. 모델 학습과정 설정하기\n",
        "  model.compile(optimizer = \"adamax\", loss = root_mean_squared_error, \n",
        "                metrics =[\"mse\"])\n",
        "\n",
        "  # 3. 모델 학습시키기\n",
        "  early_stopping = EarlyStopping(monitor='val_loss', mode='min', verbose=1, patience=100)\n",
        "  mc = ModelCheckpoint('best_model.h5', monitor='val_loss', mode='min', save_best_only=True)\\\n",
        "\n",
        "  model_final.fit(X_train, Y_train, epochs = 300, batch_size = 64, validation_split = 0.2, verbose = 0, callbacks = [mc, early_stopping])\n",
        "  y_hat = model_final.predict(X_test)\n",
        "  y_hat = y_hat.flatten()\n",
        " \n",
        "  return y_hat"
      ],
      "execution_count": 229,
      "outputs": []
    },
    {
      "cell_type": "code",
      "metadata": {
        "id": "LNzGWGdQ_cJ5",
        "colab_type": "code",
        "colab": {
          "base_uri": "https://localhost:8080/",
          "height": 143
        },
        "outputId": "8a94979b-9ae7-4254-c1ed-d15c4616984a"
      },
      "source": [
        "E, pred = modeling(data_set_list, model)"
      ],
      "execution_count": 171,
      "outputs": [
        {
          "output_type": "stream",
          "text": [
            "0 번째 validiaion 결과는 다음과 같습니다. ::: 가중평균:  0.2592723622770918 RMSE:  7.842425348374033\n",
            "Epoch 00210: early stopping\n",
            "1 번째 validiaion 결과는 다음과 같습니다. ::: 가중평균:  0.39317000681393904 RMSE:  10.910240013017546\n",
            "Epoch 00190: early stopping\n",
            "2 번째 validiaion 결과는 다음과 같습니다. ::: 가중평균:  0.36322566629061603 RMSE:  9.177025057401611\n",
            "   \n",
            "0.33855601179388223\n"
          ],
          "name": "stdout"
        }
      ]
    },
    {
      "cell_type": "code",
      "metadata": {
        "id": "sia4wCdvXCLU",
        "colab_type": "code",
        "colab": {}
      },
      "source": [
        "def mean_encoder_final(train,test,categorical_var):\n",
        "    ## mean encoding\n",
        "    train = Scaler(train)\n",
        "    test = Scaler(test)\n",
        "    cate_var = categorical_var\n",
        "    train = train.drop(drop_columns,axis=1)\n",
        "    test = test.drop(drop_columns,axis=1)\n",
        "    for i in cate_var:\n",
        "        tg_encoder = ce.target_encoder.TargetEncoder(cols=[i])\n",
        "        tg_encoder.fit(X = train[i],y = train['y'])\n",
        "        train[i] = tg_encoder.transform(train[i])\n",
        "        test[i] = tg_encoder.transform(test[i])\n",
        "        X_train,y_train = np.array(train.drop(['y'],axis=1)), np.array(train.loc[:,['y']])\n",
        "        X_valid = np.array(test)\n",
        "    return (X_train,y_train, X_valid)"
      ],
      "execution_count": 231,
      "outputs": []
    },
    {
      "cell_type": "code",
      "metadata": {
        "id": "upcrWKnMYDfC",
        "colab_type": "code",
        "colab": {}
      },
      "source": [
        "train = Scaler(train)\n",
        "test = Scaler(test)\n",
        "cate_var = categorical_var\n",
        "train = train.drop(drop_columns,axis=1)\n",
        "test = test.drop(drop_columns,axis=1)\n",
        "for i in cate_var:\n",
        "  tg_encoder = ce.target_encoder.TargetEncoder(cols=[i])\n",
        "  tg_encoder.fit(X = train[i],y = train['y'])\n",
        "  train[i] = tg_encoder.transform(train[i])\n",
        "  test[i] = tg_encoder.transform(test[i])\n",
        "  X_train,y_train = np.array(train.drop(['y'],axis=1)), np.array(train.loc[:,['y']])\n",
        "  X_valid = np.array(test)\n",
        "return (X_train,y_train, X_valid)"
      ],
      "execution_count": null,
      "outputs": []
    },
    {
      "cell_type": "code",
      "metadata": {
        "id": "KfaxYZ_AXlMr",
        "colab_type": "code",
        "colab": {
          "base_uri": "https://localhost:8080/",
          "height": 172
        },
        "outputId": "e1cf632a-e1c1-4e22-9f06-886992e4f9b7"
      },
      "source": [
        "x_submit_train_1, y_submit_train_1, x_test_1, y_test_1 = mean_encoder(submit_train_1, test_1, cate_list)"
      ],
      "execution_count": 233,
      "outputs": [
        {
          "output_type": "error",
          "ename": "ValueError",
          "evalue": "ignored",
          "traceback": [
            "\u001b[0;31m---------------------------------------------------------------------------\u001b[0m",
            "\u001b[0;31mValueError\u001b[0m                                Traceback (most recent call last)",
            "\u001b[0;32m<ipython-input-233-7c7755b362dd>\u001b[0m in \u001b[0;36m<module>\u001b[0;34m()\u001b[0m\n\u001b[0;32m----> 1\u001b[0;31m \u001b[0mx_submit_train_1\u001b[0m\u001b[0;34m,\u001b[0m \u001b[0my_submit_train_1\u001b[0m\u001b[0;34m,\u001b[0m \u001b[0mx_test_1\u001b[0m\u001b[0;34m,\u001b[0m \u001b[0my_test_1\u001b[0m \u001b[0;34m=\u001b[0m \u001b[0mmean_encoder\u001b[0m\u001b[0;34m(\u001b[0m\u001b[0msubmit_train_1\u001b[0m\u001b[0;34m,\u001b[0m \u001b[0mtest_1\u001b[0m\u001b[0;34m,\u001b[0m \u001b[0mcate_list\u001b[0m\u001b[0;34m)\u001b[0m\u001b[0;34m\u001b[0m\u001b[0;34m\u001b[0m\u001b[0m\n\u001b[0m",
            "\u001b[0;31mValueError\u001b[0m: not enough values to unpack (expected 4, got 2)"
          ]
        }
      ]
    },
    {
      "cell_type": "code",
      "metadata": {
        "id": "vn7dLykAVC7L",
        "colab_type": "code",
        "colab": {
          "base_uri": "https://localhost:8080/",
          "height": 208
        },
        "outputId": "c51ccc5e-bcd1-47e8-ec17-a633fbd63439"
      },
      "source": [
        "x_submit_train_1, y_submit_train_1, x_test_1, y_test_1 = mean_encoder(submit_train_1, test_1, cate_list)\n",
        "x_submit_train_2, y_submit_train_2, x_test_2, y_test_2 = mean_encoder(submit_train_2, val_2, cate_list)\n",
        "x_submit_train_3, y_submit_train_3, x_test_3, y_test_3 = mean_encoder(submit_train_3, val_3, cate_list)"
      ],
      "execution_count": 232,
      "outputs": [
        {
          "output_type": "error",
          "ename": "ValueError",
          "evalue": "ignored",
          "traceback": [
            "\u001b[0;31m---------------------------------------------------------------------------\u001b[0m",
            "\u001b[0;31mValueError\u001b[0m                                Traceback (most recent call last)",
            "\u001b[0;32m<ipython-input-232-4792a0ea462b>\u001b[0m in \u001b[0;36m<module>\u001b[0;34m()\u001b[0m\n\u001b[0;32m----> 1\u001b[0;31m \u001b[0mx_submit_train_1\u001b[0m\u001b[0;34m,\u001b[0m \u001b[0my_submit_train_1\u001b[0m\u001b[0;34m,\u001b[0m \u001b[0mx_test_1\u001b[0m\u001b[0;34m,\u001b[0m \u001b[0my_test_1\u001b[0m \u001b[0;34m=\u001b[0m \u001b[0mmean_encoder\u001b[0m\u001b[0;34m(\u001b[0m\u001b[0msubmit_train_1\u001b[0m\u001b[0;34m,\u001b[0m \u001b[0mval_1\u001b[0m\u001b[0;34m,\u001b[0m \u001b[0mcate_list\u001b[0m\u001b[0;34m)\u001b[0m\u001b[0;34m\u001b[0m\u001b[0;34m\u001b[0m\u001b[0m\n\u001b[0m\u001b[1;32m      2\u001b[0m \u001b[0mx_submit_train_2\u001b[0m\u001b[0;34m,\u001b[0m \u001b[0my_submit_train_2\u001b[0m\u001b[0;34m,\u001b[0m \u001b[0mx_test_2\u001b[0m\u001b[0;34m,\u001b[0m \u001b[0my_test_2\u001b[0m \u001b[0;34m=\u001b[0m \u001b[0mmean_encoder\u001b[0m\u001b[0;34m(\u001b[0m\u001b[0msubmit_train_2\u001b[0m\u001b[0;34m,\u001b[0m \u001b[0mval_2\u001b[0m\u001b[0;34m,\u001b[0m \u001b[0mcate_list\u001b[0m\u001b[0;34m)\u001b[0m\u001b[0;34m\u001b[0m\u001b[0;34m\u001b[0m\u001b[0m\n\u001b[1;32m      3\u001b[0m \u001b[0mx_submit_train_3\u001b[0m\u001b[0;34m,\u001b[0m \u001b[0my_submit_train_3\u001b[0m\u001b[0;34m,\u001b[0m \u001b[0mx_test_3\u001b[0m\u001b[0;34m,\u001b[0m \u001b[0my_test_3\u001b[0m \u001b[0;34m=\u001b[0m \u001b[0mmean_encoder\u001b[0m\u001b[0;34m(\u001b[0m\u001b[0msubmit_train_3\u001b[0m\u001b[0;34m,\u001b[0m \u001b[0mval_3\u001b[0m\u001b[0;34m,\u001b[0m \u001b[0mcate_list\u001b[0m\u001b[0;34m)\u001b[0m\u001b[0;34m\u001b[0m\u001b[0;34m\u001b[0m\u001b[0m\n",
            "\u001b[0;31mValueError\u001b[0m: not enough values to unpack (expected 4, got 2)"
          ]
        }
      ]
    },
    {
      "cell_type": "code",
      "metadata": {
        "id": "FRQouVcZF7uQ",
        "colab_type": "code",
        "colab": {
          "base_uri": "https://localhost:8080/",
          "height": 172
        },
        "outputId": "fd4d38c6-3db5-46a1-bd63-6cfda5ffc7fc"
      },
      "source": [
        "ffnn_0131 = modeling_final(x_submit_train_1, y_submit_train_1, x_test_1)\n",
        "ffnn_0331 = modeling_final(x_submit_train_1, y_submit_train_1, x_test_1)\n",
        "ffnn_0531 = modeling_final(x_submit_train_1, y_submit_train_1, x_test_1)"
      ],
      "execution_count": 226,
      "outputs": [
        {
          "output_type": "error",
          "ename": "TypeError",
          "evalue": "ignored",
          "traceback": [
            "\u001b[0;31m---------------------------------------------------------------------------\u001b[0m",
            "\u001b[0;31mTypeError\u001b[0m                                 Traceback (most recent call last)",
            "\u001b[0;32m<ipython-input-226-2451fc09ba88>\u001b[0m in \u001b[0;36m<module>\u001b[0;34m()\u001b[0m\n\u001b[0;32m----> 1\u001b[0;31m \u001b[0mmodeling_final\u001b[0m\u001b[0;34m(\u001b[0m\u001b[0msubmit_train_1\u001b[0m\u001b[0;34m,\u001b[0m \u001b[0mtest_1\u001b[0m\u001b[0;34m)\u001b[0m\u001b[0;34m\u001b[0m\u001b[0;34m\u001b[0m\u001b[0m\n\u001b[0m",
            "\u001b[0;31mTypeError\u001b[0m: modeling_final() missing 1 required positional argument: 'X_test'"
          ]
        }
      ]
    }
  ]
}