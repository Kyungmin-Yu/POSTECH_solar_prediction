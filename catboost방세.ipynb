{
  "nbformat": 4,
  "nbformat_minor": 0,
  "metadata": {
    "colab": {
      "name": "catboost방세.ipynb",
      "provenance": [],
      "collapsed_sections": [],
      "authorship_tag": "ABX9TyNr9GcP4SCkhtY8r8GrYRwO",
      "include_colab_link": true
    },
    "kernelspec": {
      "name": "python3",
      "display_name": "Python 3"
    }
  },
  "cells": [
    {
      "cell_type": "markdown",
      "metadata": {
        "id": "view-in-github",
        "colab_type": "text"
      },
      "source": [
        "<a href=\"https://colab.research.google.com/github/Kyungmin-Yu/old_datamining/blob/master/catboost%EB%B0%A9%EC%84%B8.ipynb\" target=\"_parent\"><img src=\"https://colab.research.google.com/assets/colab-badge.svg\" alt=\"Open In Colab\"/></a>"
      ]
    },
    {
      "cell_type": "code",
      "metadata": {
        "id": "WM1vpQ-PudMj",
        "colab_type": "code",
        "colab": {
          "base_uri": "https://localhost:8080/",
          "height": 124
        },
        "outputId": "9e8b96fe-00cc-4be4-8ea2-0f96ad6ad0de"
      },
      "source": [
        "from google.colab import drive\n",
        "drive.mount('/content/drive')"
      ],
      "execution_count": null,
      "outputs": [
        {
          "output_type": "stream",
          "text": [
            "Go to this URL in a browser: https://accounts.google.com/o/oauth2/auth?client_id=947318989803-6bn6qk8qdgf4n4g3pfee6491hc0brc4i.apps.googleusercontent.com&redirect_uri=urn%3aietf%3awg%3aoauth%3a2.0%3aoob&scope=email%20https%3a%2f%2fwww.googleapis.com%2fauth%2fdocs.test%20https%3a%2f%2fwww.googleapis.com%2fauth%2fdrive%20https%3a%2f%2fwww.googleapis.com%2fauth%2fdrive.photos.readonly%20https%3a%2f%2fwww.googleapis.com%2fauth%2fpeopleapi.readonly&response_type=code\n",
            "\n",
            "Enter your authorization code:\n",
            "··········\n",
            "Mounted at /content/drive\n"
          ],
          "name": "stdout"
        }
      ]
    },
    {
      "cell_type": "code",
      "metadata": {
        "id": "nSEsuy4BuRjr",
        "colab_type": "code",
        "colab": {}
      },
      "source": [
        "import os\n",
        "os.chdir(\"/content/drive/My Drive/data\")\n",
        "import pandas as pd\n",
        "import numpy as np\n",
        "dat = pd.read_csv(\"train_4.csv\")"
      ],
      "execution_count": null,
      "outputs": []
    },
    {
      "cell_type": "code",
      "metadata": {
        "id": "khb6c7BDG1t6",
        "colab_type": "code",
        "colab": {
          "base_uri": "https://localhost:8080/",
          "height": 594
        },
        "outputId": "daf18273-b073-475b-d2dd-a70386d3299c"
      },
      "source": [
        "dat.info()"
      ],
      "execution_count": null,
      "outputs": [
        {
          "output_type": "stream",
          "text": [
            "<class 'pandas.core.frame.DataFrame'>\n",
            "RangeIndex: 2725271 entries, 0 to 2725270\n",
            "Data columns (total 26 columns):\n",
            " #   Column                  Dtype  \n",
            "---  ------                  -----  \n",
            " 0   Unnamed: 0              int64  \n",
            " 1   click                   int64  \n",
            " 2   event_datetime          object \n",
            " 3   bid_id                  object \n",
            " 4   ssp_id                  object \n",
            " 5   campaign_id             object \n",
            " 6   adset_id                object \n",
            " 7   placement_type          object \n",
            " 8   media_id                object \n",
            " 9   media_name              object \n",
            " 10  media_bundle            object \n",
            " 11  media_domain            object \n",
            " 12  publisher_id            object \n",
            " 13  publisher_name          object \n",
            " 14  device_ifa              object \n",
            " 15  device_os               object \n",
            " 16  device_model            object \n",
            " 17  device_carrier          object \n",
            " 18  device_connection_type  object \n",
            " 19  device_region           object \n",
            " 20  device_city             object \n",
            " 21  advertisement_id        object \n",
            " 22  day                     int64  \n",
            " 23  weekday                 object \n",
            " 24  sin_time                float64\n",
            " 25  cos_time                float64\n",
            "dtypes: float64(2), int64(3), object(21)\n",
            "memory usage: 540.6+ MB\n"
          ],
          "name": "stdout"
        }
      ]
    },
    {
      "cell_type": "code",
      "metadata": {
        "id": "mQeSpWWM6DDY",
        "colab_type": "code",
        "colab": {}
      },
      "source": [
        "train = dat[(dat[\"event_datetime\"] < \"2019-10-05\")]\n",
        "validation = dat[(dat[\"event_datetime\"] > \"2019-10-05\")]"
      ],
      "execution_count": null,
      "outputs": []
    },
    {
      "cell_type": "code",
      "metadata": {
        "id": "hYkJHVAxSwXN",
        "colab_type": "code",
        "colab": {
          "base_uri": "https://localhost:8080/",
          "height": 332
        },
        "outputId": "de94b987-666d-4acb-af59-056314826c92"
      },
      "source": [
        "! pip install catboost"
      ],
      "execution_count": null,
      "outputs": [
        {
          "output_type": "stream",
          "text": [
            "Collecting catboost\n",
            "\u001b[?25l  Downloading https://files.pythonhosted.org/packages/96/6c/6608210b29649267de52001b09e369777ee2a5cfe1c71fa75eba82a4f2dc/catboost-0.24-cp36-none-manylinux1_x86_64.whl (65.9MB)\n",
            "\u001b[K     |████████████████████████████████| 65.9MB 51kB/s \n",
            "\u001b[?25hRequirement already satisfied: six in /usr/local/lib/python3.6/dist-packages (from catboost) (1.15.0)\n",
            "Requirement already satisfied: matplotlib in /usr/local/lib/python3.6/dist-packages (from catboost) (3.2.2)\n",
            "Requirement already satisfied: pandas>=0.24.0 in /usr/local/lib/python3.6/dist-packages (from catboost) (1.0.5)\n",
            "Requirement already satisfied: scipy in /usr/local/lib/python3.6/dist-packages (from catboost) (1.4.1)\n",
            "Requirement already satisfied: plotly in /usr/local/lib/python3.6/dist-packages (from catboost) (4.4.1)\n",
            "Requirement already satisfied: numpy>=1.16.0 in /usr/local/lib/python3.6/dist-packages (from catboost) (1.18.5)\n",
            "Requirement already satisfied: graphviz in /usr/local/lib/python3.6/dist-packages (from catboost) (0.10.1)\n",
            "Requirement already satisfied: python-dateutil>=2.1 in /usr/local/lib/python3.6/dist-packages (from matplotlib->catboost) (2.8.1)\n",
            "Requirement already satisfied: kiwisolver>=1.0.1 in /usr/local/lib/python3.6/dist-packages (from matplotlib->catboost) (1.2.0)\n",
            "Requirement already satisfied: cycler>=0.10 in /usr/local/lib/python3.6/dist-packages (from matplotlib->catboost) (0.10.0)\n",
            "Requirement already satisfied: pyparsing!=2.0.4,!=2.1.2,!=2.1.6,>=2.0.1 in /usr/local/lib/python3.6/dist-packages (from matplotlib->catboost) (2.4.7)\n",
            "Requirement already satisfied: pytz>=2017.2 in /usr/local/lib/python3.6/dist-packages (from pandas>=0.24.0->catboost) (2018.9)\n",
            "Requirement already satisfied: retrying>=1.3.3 in /usr/local/lib/python3.6/dist-packages (from plotly->catboost) (1.3.3)\n",
            "Installing collected packages: catboost\n",
            "Successfully installed catboost-0.24\n"
          ],
          "name": "stdout"
        }
      ]
    },
    {
      "cell_type": "code",
      "metadata": {
        "id": "UMqK76AFu11k",
        "colab_type": "code",
        "colab": {}
      },
      "source": [
        "from catboost import CatBoostClassifier\n",
        "from sklearn.metrics import log_loss"
      ],
      "execution_count": null,
      "outputs": []
    },
    {
      "cell_type": "code",
      "metadata": {
        "id": "HNzoKoZfxXes",
        "colab_type": "code",
        "colab": {}
      },
      "source": [
        "cb_model = CatBoostClassifier(iterations=1000,\n",
        "                          loss_function='Logloss',\n",
        "                          eval_metric='Logloss'\n",
        "                          ,task_type=\"GPU\"\n",
        "                          )"
      ],
      "execution_count": null,
      "outputs": []
    },
    {
      "cell_type": "code",
      "metadata": {
        "id": "vAhtLz6cnDVS",
        "colab_type": "code",
        "colab": {
          "base_uri": "https://localhost:8080/",
          "height": 52
        },
        "outputId": "7a68fe9b-b05a-410d-c17f-4145eece1d00"
      },
      "source": [
        "train_x = train.drop(['click','event_datetime','day'], axis=1)\n",
        "train_y = train.loc[:,['click']]\n",
        "val_x =  validation.drop(['click','event_datetime', 'day'], axis=1)\n",
        "val_y = validation.loc[:,['click']]\n",
        "cat_features = list(train_x.select_dtypes(include=['object', 'int64']))\n",
        "cb_model.fit(train_x, train_y,  \n",
        "             cat_features=cat_features,\n",
        "             use_best_model=True,\n",
        "             verbose=False)\n",
        "pred_y = cb_model.predict(val_x)\n",
        "true_y = val_y.to_numpy().flatten()\n",
        "log_loss(true_y, pred_y)"
      ],
      "execution_count": null,
      "outputs": [
        {
          "output_type": "stream",
          "text": [
            "You should provide test set for use best model. use_best_model parameter has been switched to false value.\n"
          ],
          "name": "stderr"
        },
        {
          "output_type": "execute_result",
          "data": {
            "text/plain": [
              "2.8144747410646724"
            ]
          },
          "metadata": {
            "tags": []
          },
          "execution_count": 17
        }
      ]
    }
  ]
}