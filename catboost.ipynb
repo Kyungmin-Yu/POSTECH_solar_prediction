{
  "nbformat": 4,
  "nbformat_minor": 0,
  "metadata": {
    "colab": {
      "name": "catboost.ipynb",
      "provenance": [],
      "collapsed_sections": [],
      "authorship_tag": "ABX9TyNHsMZSBuptvI+OAoPqpChk",
      "include_colab_link": true
    },
    "kernelspec": {
      "name": "python3",
      "display_name": "Python 3"
    }
  },
  "cells": [
    {
      "cell_type": "markdown",
      "metadata": {
        "id": "view-in-github",
        "colab_type": "text"
      },
      "source": [
        "<a href=\"https://colab.research.google.com/github/Kyungmin-Yu/old_datamining/blob/master/catboost.ipynb\" target=\"_parent\"><img src=\"https://colab.research.google.com/assets/colab-badge.svg\" alt=\"Open In Colab\"/></a>"
      ]
    },
    {
      "cell_type": "code",
      "metadata": {
        "id": "WM1vpQ-PudMj",
        "colab_type": "code",
        "colab": {
          "base_uri": "https://localhost:8080/",
          "height": 35
        },
        "outputId": "966f6457-598d-46ff-8a53-367c7a617194"
      },
      "source": [
        "from google.colab import drive\n",
        "drive.mount('/content/drive')"
      ],
      "execution_count": 6,
      "outputs": [
        {
          "output_type": "stream",
          "text": [
            "Drive already mounted at /content/drive; to attempt to forcibly remount, call drive.mount(\"/content/drive\", force_remount=True).\n"
          ],
          "name": "stdout"
        }
      ]
    },
    {
      "cell_type": "code",
      "metadata": {
        "id": "nSEsuy4BuRjr",
        "colab_type": "code",
        "colab": {}
      },
      "source": [
        "import os\n",
        "os.chdir(\"/content/drive/My Drive/data\")\n",
        "import pandas as pd\n",
        "import numpy as np\n",
        "dat = pd.read_csv(\"final_data0723_3.csv\", encoding='CP949')"
      ],
      "execution_count": 7,
      "outputs": []
    },
    {
      "cell_type": "code",
      "metadata": {
        "id": "4QxOKEc6Q5ie",
        "colab_type": "code",
        "colab": {
          "base_uri": "https://localhost:8080/",
          "height": 737
        },
        "outputId": "32065198-219c-4adc-c045-220e3604c260"
      },
      "source": [
        "dat.info()"
      ],
      "execution_count": 8,
      "outputs": [
        {
          "output_type": "stream",
          "text": [
            "<class 'pandas.core.frame.DataFrame'>\n",
            "RangeIndex: 8758 entries, 0 to 8757\n",
            "Data columns (total 33 columns):\n",
            " #   Column        Non-Null Count  Dtype  \n",
            "---  ------        --------------  -----  \n",
            " 0   y             8686 non-null   float64\n",
            " 1   date          8758 non-null   object \n",
            " 2   month         8758 non-null   int64  \n",
            " 3   day           8758 non-null   int64  \n",
            " 4   wday          8758 non-null   object \n",
            " 5   hour          8758 non-null   int64  \n",
            " 6   temp          8758 non-null   float64\n",
            " 7   rain          8758 non-null   float64\n",
            " 8   wind_speed    8758 non-null   float64\n",
            " 9   humidity      8758 non-null   float64\n",
            " 10  rain_prob     8758 non-null   float64\n",
            " 11  rain_type     8758 non-null   int64  \n",
            " 12  skycondition  8758 non-null   int64  \n",
            " 13  ymd           8758 non-null   object \n",
            " 14  daily         8758 non-null   float64\n",
            " 15  daily_smooth  8758 non-null   float64\n",
            " 16  pm10_cat      8737 non-null   object \n",
            " 17  pm2_5_cat     8737 non-null   object \n",
            " 18  altitude      8737 non-null   float64\n",
            " 19  azimuth       8737 non-null   float64\n",
            " 20  sin_time      8758 non-null   float64\n",
            " 21  cos_time      8758 non-null   float64\n",
            " 22  temp_diff     8758 non-null   float64\n",
            " 23  hum_diff      8758 non-null   float64\n",
            " 24  ws_diff       8758 non-null   float64\n",
            " 25  temp_max      8758 non-null   float64\n",
            " 26  hum_max       8758 non-null   float64\n",
            " 27  ws_max        8758 non-null   float64\n",
            " 28  temp_mean     8758 non-null   float64\n",
            " 29  hum_mean      8758 non-null   float64\n",
            " 30  ws_mean       8758 non-null   float64\n",
            " 31  rain_sum      8758 non-null   float64\n",
            " 32  rain_yn       8758 non-null   object \n",
            "dtypes: float64(22), int64(5), object(6)\n",
            "memory usage: 2.2+ MB\n"
          ],
          "name": "stdout"
        }
      ]
    },
    {
      "cell_type": "code",
      "metadata": {
        "id": "w-A2qFMR_ww0",
        "colab_type": "code",
        "colab": {}
      },
      "source": [
        "dat = dat.set_index(pd.to_datetime(dat['date']))\n",
        "submit_dat = dat[dat['y'].isnull()]\n",
        "dat = dat[dat['y'].notnull()]"
      ],
      "execution_count": 9,
      "outputs": []
    },
    {
      "cell_type": "code",
      "metadata": {
        "id": "Zux5zNNGSE0I",
        "colab_type": "code",
        "colab": {}
      },
      "source": [
        "drop_columns = ['date','day','wday','ymd','daily','rain_prob']\n",
        "train_1 = dat[(dat[\"ymd\"] < \"2020-01-24\")].drop(drop_columns,axis=1)\n",
        "train_2 = dat[(dat[\"ymd\"] < \"2020-03-24\")].drop(drop_columns,axis=1)\n",
        "train_3 = dat[(dat[\"ymd\"] < \"2020-05-24\")].drop(drop_columns,axis=1)\n",
        "\n",
        "val_1 = dat[((dat[\"ymd\"] > \"2020-01-23\") & (dat[\"ymd\"] <\"2020-01-31\"))].drop(drop_columns,axis=1)\n",
        "val_2 = dat[((dat[\"ymd\"] > \"2020-03-23\") & (dat[\"ymd\"] <\"2020-03-31\"))].drop(drop_columns,axis=1)\n",
        "val_3 = dat[((dat[\"ymd\"] > \"2020-05-23\") & (dat[\"ymd\"] <\"2020-05-31\"))].drop(drop_columns,axis=1)\n",
        "\n",
        "test_1 = submit_dat[(submit_dat[\"ymd\"] == \"2020-01-31\")].drop(drop_columns,axis=1)\n",
        "test_2 = submit_dat[(submit_dat[\"ymd\"] == \"2020-03-31\")].drop(drop_columns,axis=1)\n",
        "test_3 = submit_dat[(submit_dat[\"ymd\"] == \"2020-05-31\")].drop(drop_columns,axis=1)"
      ],
      "execution_count": 10,
      "outputs": []
    },
    {
      "cell_type": "code",
      "metadata": {
        "id": "hYkJHVAxSwXN",
        "colab_type": "code",
        "colab": {
          "base_uri": "https://localhost:8080/",
          "height": 361
        },
        "outputId": "19830b81-a307-4f0e-e70b-4827b404924e"
      },
      "source": [
        "! pip install catboost"
      ],
      "execution_count": 11,
      "outputs": [
        {
          "output_type": "stream",
          "text": [
            "Collecting catboost\n",
            "\u001b[?25l  Downloading https://files.pythonhosted.org/packages/b2/aa/e61819d04ef2bbee778bf4b3a748db1f3ad23512377e43ecfdc3211437a0/catboost-0.23.2-cp36-none-manylinux1_x86_64.whl (64.8MB)\n",
            "\u001b[K     |████████████████████████████████| 64.8MB 61kB/s \n",
            "\u001b[?25hRequirement already satisfied: six in /usr/local/lib/python3.6/dist-packages (from catboost) (1.15.0)\n",
            "Requirement already satisfied: plotly in /usr/local/lib/python3.6/dist-packages (from catboost) (4.4.1)\n",
            "Requirement already satisfied: matplotlib in /usr/local/lib/python3.6/dist-packages (from catboost) (3.2.2)\n",
            "Requirement already satisfied: pandas>=0.24.0 in /usr/local/lib/python3.6/dist-packages (from catboost) (1.0.5)\n",
            "Requirement already satisfied: numpy>=1.16.0 in /usr/local/lib/python3.6/dist-packages (from catboost) (1.18.5)\n",
            "Requirement already satisfied: scipy in /usr/local/lib/python3.6/dist-packages (from catboost) (1.4.1)\n",
            "Requirement already satisfied: graphviz in /usr/local/lib/python3.6/dist-packages (from catboost) (0.10.1)\n",
            "Requirement already satisfied: retrying>=1.3.3 in /usr/local/lib/python3.6/dist-packages (from plotly->catboost) (1.3.3)\n",
            "Requirement already satisfied: pyparsing!=2.0.4,!=2.1.2,!=2.1.6,>=2.0.1 in /usr/local/lib/python3.6/dist-packages (from matplotlib->catboost) (2.4.7)\n",
            "Requirement already satisfied: kiwisolver>=1.0.1 in /usr/local/lib/python3.6/dist-packages (from matplotlib->catboost) (1.2.0)\n",
            "Requirement already satisfied: cycler>=0.10 in /usr/local/lib/python3.6/dist-packages (from matplotlib->catboost) (0.10.0)\n",
            "Requirement already satisfied: python-dateutil>=2.1 in /usr/local/lib/python3.6/dist-packages (from matplotlib->catboost) (2.8.1)\n",
            "Requirement already satisfied: pytz>=2017.2 in /usr/local/lib/python3.6/dist-packages (from pandas>=0.24.0->catboost) (2018.9)\n",
            "Installing collected packages: catboost\n",
            "Successfully installed catboost-0.23.2\n"
          ],
          "name": "stdout"
        }
      ]
    },
    {
      "cell_type": "code",
      "metadata": {
        "id": "UMqK76AFu11k",
        "colab_type": "code",
        "colab": {}
      },
      "source": [
        "from catboost import CatBoostRegressor"
      ],
      "execution_count": 12,
      "outputs": []
    },
    {
      "cell_type": "code",
      "metadata": {
        "id": "HNzoKoZfxXes",
        "colab_type": "code",
        "colab": {}
      },
      "source": [
        "cb_model = CatBoostRegressor(iterations=1000,\n",
        "                          loss_function='RMSE',\n",
        "                          eval_metric='RMSE')"
      ],
      "execution_count": 13,
      "outputs": []
    },
    {
      "cell_type": "code",
      "metadata": {
        "id": "DTclF-IGO4zs",
        "colab_type": "code",
        "colab": {}
      },
      "source": [
        "from sklearn.metrics import mean_squared_error as mse\n",
        "def RMSE(y_true,y_pred):\n",
        "    rmse = (mse(y_true,y_pred))**0.5\n",
        "    return rmse"
      ],
      "execution_count": 33,
      "outputs": []
    },
    {
      "cell_type": "code",
      "metadata": {
        "id": "cmZt47kQK3wp",
        "colab_type": "code",
        "colab": {}
      },
      "source": [
        "def cat_pred (train ,test):\n",
        "  train_x =  train.drop(['y'],axis=1)\n",
        "  train_y = train.loc[:,['y']]\n",
        "  test_x = test.drop(['y'],axis=1)\n",
        "  test_y = test.loc[:,['y']]\n",
        "  cat_features = list(train.select_dtypes(include=['object', 'int64']))\n",
        "  cb_model.fit(train_x, train_y, \n",
        "             eval_set=(test_x,test_y), \n",
        "             cat_features=cat_features,\n",
        "             use_best_model=True,\n",
        "             verbose=False)\n",
        "  pred_y = cb_model.predict(test_x)\n",
        "  true_y = test_y.to_numpy().flatten()\n",
        "  E = lossloss(true_y, pred_y)\n",
        " \n",
        "  return pred_y"
      ],
      "execution_count": 27,
      "outputs": []
    },
    {
      "cell_type": "code",
      "metadata": {
        "id": "sQlT-IOKW6DI",
        "colab_type": "code",
        "colab": {}
      },
      "source": [
        "def lossloss(y, y_hat):\n",
        "  result = []\n",
        "  for i in range(int(y.shape[0]/24)):\n",
        "    start = 24*i\n",
        "    end = (24*(i+1))\n",
        "    tmp = sum(abs(y[start:end] - y_hat[start:end])*y[start:end]/sum(y[start:end]))/133\n",
        "    result.append(tmp)\n",
        "  loss = np.mean(result)\n",
        "  return loss"
      ],
      "execution_count": 16,
      "outputs": []
    },
    {
      "cell_type": "code",
      "metadata": {
        "id": "HlVOFIhyHujX",
        "colab_type": "code",
        "colab": {}
      },
      "source": [
        "from sklearn.model_selection import KFold\n",
        "def cat_fold_prediction(train, test, N_fold=5):\n",
        "    kf = KFold(n_splits=N_fold, shuffle=True, random_state=0)\n",
        "    y_pred_mean = np.zeros(len(test))\n",
        "    for i, (train_index,val_index) in enumerate(kf.split(train)):\n",
        "        train_cv = train.iloc[train_index,:]\n",
        "        val_cv = train.iloc[val_index,:]\n",
        "        y_pred = cat_pred(train_cv, test)\n",
        "        y_pred_mean += np.array(y_pred)/N_fold\n",
        "    rmse = RMSE(test['y'],y_pred_mean)\n",
        "    E = lossloss(test['y'],y_pred_mean)\n",
        "    print(\"가중평균: \", E)\n",
        "    print(\"RMSE:\", rmse) \n",
        "    return y_pred_mean\n",
        "\n",
        "\n"
      ],
      "execution_count": 29,
      "outputs": []
    },
    {
      "cell_type": "code",
      "metadata": {
        "id": "S_oC1h6iiLan",
        "colab_type": "code",
        "colab": {}
      },
      "source": [
        "pred_1 = cat_fold_prediction(train_1, val_1)\n",
        "pred_2 = cat_fold_prediction(train_2, val_2)\n",
        "pred_3 = cat_fold_prediction(train_3, val_3)"
      ],
      "execution_count": null,
      "outputs": []
    },
    {
      "cell_type": "code",
      "metadata": {
        "id": "SpVVOpYDRFot",
        "colab_type": "code",
        "colab": {}
      },
      "source": [
        ""
      ],
      "execution_count": null,
      "outputs": []
    }
  ]
}